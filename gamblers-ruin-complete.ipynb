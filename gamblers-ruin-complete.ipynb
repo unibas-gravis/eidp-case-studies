{
 "cells": [
  {
   "cell_type": "markdown",
   "metadata": {},
   "source": [
    "# Der Ruin des Spielers\n",
    "\n",
    "\n",
    "In dieser Fallstudie studieren wir unsere Gewinnchancen beim Spielen im Casino. Insbesondere wollen wir am Ende folgende Frage beantworten können:\n",
    "\n",
    "> Angenommen wir gehen mit einem bestimmten Anfangsbudget ins Casino und unser Ziel ist es, einen bestimmten Zielbetrag zu erreichen. Dabei setzen wir jeweils immer einen fixen Betrag. Was ist die Wahrscheinlichkeit, dass wir gewinnen (d.h. den Zielbetrag erreichen) und was ist die Wahrscheinlichkeit, dass wir dabei Bankrott gehen?\n",
    "\n",
    "Dabei werden wir sehen, wie uns Funktionen und Prozeduren helfen eine Aufgabe zu strukturieren. \n",
    "Zudem lernen wir auch, wie wir in einer Simulation Zufallszahlen nutzen können. \n"
   ]
  },
  {
   "cell_type": "markdown",
   "metadata": {},
   "source": [
    "### Ein Spiel simulieren"
   ]
  },
  {
   "cell_type": "markdown",
   "metadata": {},
   "source": [
    "Nun nutzen wir diese Zufallsfunktion um ein [Roulettespiel](https://de.wikipedia.org/wiki/Roulette) zu simulieren. Wir schreiben uns dafür eine Funktion. Diese bekommt als Argument unseren Einsatz, und gibt unseren Gewinn zurück. Was wir zurückbekommen ist zwei mal der Einsatz im Gewinnfall, oder 0 falls wir nicht gewinnen. Wir setzen dabei immer nur auf eine der Farben und schliessen nie andere Wetten ab.Da es keinen Unterschied für die Gewinnchancen macht ob wir auf Rot oder Schwarz setzen, bilden wir dies in unserer Funktion nicht ab. Wir implementieren nur die Tatsache, dass wir in 19 von 37 Fällen verlieren und in 18 gewinnen. "
   ]
  },
  {
   "cell_type": "code",
   "execution_count": 1,
   "metadata": {},
   "outputs": [],
   "source": [
    "import random\n",
    "\n",
    "def play_game(bet): \n",
    "    random_number = random.randint(0, 36)\n",
    "    if random_number == 0:\n",
    "        return 0\n",
    "    elif random_number <= 18:\n",
    "        return 0\n",
    "    else: \n",
    "        return 2 * bet"
   ]
  },
  {
   "cell_type": "code",
   "execution_count": 2,
   "metadata": {},
   "outputs": [
    {
     "data": {
      "text/plain": [
       "0"
      ]
     },
     "execution_count": 2,
     "metadata": {},
     "output_type": "execute_result"
    }
   ],
   "source": [
    "play_game(5)"
   ]
  },
  {
   "cell_type": "markdown",
   "metadata": {},
   "source": [
    "### Histogram der Gewinne"
   ]
  },
  {
   "cell_type": "markdown",
   "metadata": {},
   "source": [
    "Wir können nun versuchen verschiedene Aspekte dieser Simulation zu visualisieren. Zuerst plotten wir, wie oft wir gewinnen. "
   ]
  },
  {
   "cell_type": "code",
   "execution_count": 49,
   "metadata": {},
   "outputs": [
    {
     "data": {
      "image/png": "[encoded data removed]",
      "text/plain": [
       "<Figure size 432x288 with 1 Axes>"
      ]
     },
     "metadata": {
      "needs_background": "light"
     },
     "output_type": "display_data"
    }
   ],
   "source": [
    "from matplotlib.pyplot import *\n",
    "\n",
    "\n",
    "results = []\n",
    "for i in range(0,10):\n",
    "    results.append(play_game(1))\n",
    "\n",
    "hist(results, bins=2)\n",
    "show()"
   ]
  },
  {
   "cell_type": "code",
   "execution_count": null,
   "metadata": {},
   "outputs": [],
   "source": []
  },
  {
   "cell_type": "markdown",
   "metadata": {},
   "source": [
    "### Spielen mit Zielbetrag"
   ]
  },
  {
   "cell_type": "markdown",
   "metadata": {},
   "source": [
    "Statt auf ein einziges Spiel, fokussieren wir uns nun auf eine Serie von Spielen. Dabei verwenden wir die folgende Strategie:\n",
    "- Wir spielen so lange weiter, bis wir einen bestimmten Zielbetrag erreicht haben.\n",
    "- Wenn wir aber kein Geld mehr haben, dann müssen wir aufhören zu spielen.\n",
    "\n",
    "Da wir schon die Funktion ```play_game``` geschrieben haben, können wir diese hier wiederverwenden. Wir nutzen diese Funktion als *black box*, d.h. wir müssen gar nicht wissen, wie die Funktion implementiert ist oder welches Spiel da eigentlich simuliert wird. Wichtig ist nur, dass wir wissen, wie wir die Funktion aufrufen und dass der Rückgabewert jeweils unser Gewinn oder Verlust ist.\n",
    "\n",
    "Die folgende Funktion soll dann `True` zurück geben wenn wir das Ziel erreicht haben oder `False` wenn wir bankkrott sind."
   ]
  },
  {
   "cell_type": "code",
   "execution_count": 50,
   "metadata": {},
   "outputs": [],
   "source": [
    "\n",
    "def play_until_target_reached_or_ruined(initial_amount, bet, target_amount):\n",
    "    balance = initial_amount\n",
    "\n",
    "    balances = []\n",
    "    \n",
    "    while balance >= bet and balance < target_amount:\n",
    "        balance = balance - bet\n",
    "        balance = balance + play_game(bet)\n",
    "        balances.append[balance]\n",
    "\n",
    "    return (balance >= target_amount, balances"
   ]
  },
  {
   "cell_type": "code",
   "execution_count": 45,
   "metadata": {},
   "outputs": [
    {
     "data": {
      "text/plain": [
       "True"
      ]
     },
     "execution_count": 45,
     "metadata": {},
     "output_type": "execute_result"
    }
   ],
   "source": [
    "play_until_target_reached_or_ruined(100, 10, 101)"
   ]
  },
  {
   "cell_type": "markdown",
   "metadata": {},
   "source": [
    "### Simulation - Was ist unsere Gewinnwahrscheinlichkeit?"
   ]
  },
  {
   "cell_type": "markdown",
   "metadata": {},
   "source": [
    "Zum Schluss schreiben wir uns eine Funktion, die uns eine Anzahl Versuche simuliert und dabei zählt, wie oft wir unser Ziel erreichen und wie oft wir bankrott gehen. Auch hier nutzen wir nun wieder die zuvor definierte Funktion."
   ]
  },
  {
   "cell_type": "code",
   "execution_count": 46,
   "metadata": {},
   "outputs": [],
   "source": [
    "def count_wins_in_n_games(number_of_tries, initial_amount, bet_per_game, target_amount):\n",
    "\n",
    "    num_wins = 0\n",
    "\n",
    "    i = 0\n",
    "    while i < number_of_tries:\n",
    "        if play_until_target_reached_or_ruined(initial_amount, bet_per_game, target_amount) == True:\n",
    "            num_wins = num_wins + 1\n",
    "        i += 1\n",
    "\n",
    "    return num_wins"
   ]
  },
  {
   "cell_type": "markdown",
   "metadata": {},
   "source": [
    "Um die Gewinnwahrscheinlichkeit zu berechnen, müssen wir nur nur diese Funktion aufrufen und den Anteil an Gewinnen "
   ]
  },
  {
   "cell_type": "code",
   "execution_count": 47,
   "metadata": {},
   "outputs": [
    {
     "name": "stdout",
     "output_type": "stream",
     "text": [
      "Wahrscheinlichkeit zu gewinnen:  0.474\n",
      "Wahrscheinlichkeit zu verlieren  0.526\n",
      "Erwarteter Gewinn  -57.800000000000004\n"
     ]
    }
   ],
   "source": [
    "number_of_games = 1000\n",
    "target_amount = 300\n",
    "initial_amount = 200\n",
    "bet = 10\n",
    "number_of_wins = count_wins_in_n_games(number_of_games, initial_amount, bet, target_amount)\n",
    "\n",
    "probability_to_win = number_of_wins / number_of_games\n",
    "probability_to_lose = (number_of_games - number_of_wins) / number_of_games\n",
    "expected_win = probability_to_win * (target_amount - initial_amount ) + probability_to_lose * (-initial_amount)\n",
    "print(\"Wahrscheinlichkeit zu gewinnen: \", probability_to_win)\n",
    "print(\"Wahrscheinlichkeit zu verlieren \", probability_to_lose)\n",
    "print(\"Erwarteter Gewinn \", expected_win)\n"
   ]
  }
 ],
 "metadata": {
  "kernelspec": {
   "display_name": "Python 3 (ipykernel)",
   "language": "python",
   "name": "python3"
  },
  "language_info": {
   "codemirror_mode": {
    "name": "ipython",
    "version": 3
   },
   "file_extension": ".py",
   "mimetype": "text/x-python",
   "name": "python",
   "nbconvert_exporter": "python",
   "pygments_lexer": "ipython3",
   "version": "3.9.7"
  },
  "toc": {
   "base_numbering": 1,
   "nav_menu": {},
   "number_sections": false,
   "sideBar": false,
   "skip_h1_title": false,
   "title_cell": "Table of Contents",
   "title_sidebar": "Contents",
   "toc_cell": false,
   "toc_position": {},
   "toc_section_display": false,
   "toc_window_display": false
  }
 },
 "nbformat": 4,
 "nbformat_minor": 2
}

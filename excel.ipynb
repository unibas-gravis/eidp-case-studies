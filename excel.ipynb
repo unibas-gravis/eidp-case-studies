{
 "cells": [
  {
   "cell_type": "markdown",
   "id": "340c97b7",
   "metadata": {},
   "source": [
    "# Berechnen der Versicherungsprämie für ein Lebensversicherungsprodukt"
   ]
  },
  {
   "cell_type": "markdown",
   "id": "bc2dd19c",
   "metadata": {},
   "source": [
    "In dieser Fallstudie vergleichen wir eine Lösung, die in Excel erstellt wurde, mit einer Lösung in Python. \n",
    "Die Lösung in Excel finden Sie [hier](https://drive.switch.ch/index.php/s/I9hNB8SRcAzuWjq).\n",
    "\n",
    "Wir wollen vergleichen, wie sich die gleiche Berechnung in Excel und in Python verhält und was die Vor- und Nachteile des jeweiligen Produkts sind. "
   ]
  },
  {
   "cell_type": "markdown",
   "id": "70c4ddf7",
   "metadata": {},
   "source": [
    "## Simulation in Python\n",
    "\n",
    "\n",
    "Als Grundlage für unsere Simulation nutzen wir die Sterbestatistik. \n",
    "Der $i$-te Eintrag `sterbe_wahrscheinlichkeit` gibt uns das Sterberisiko im $i$-ten Lebensjahr. "
   ]
  },
  {
   "cell_type": "code",
   "execution_count": 3,
   "id": "73ab3ed9",
   "metadata": {},
   "outputs": [],
   "source": [
    "sterbe_wahrscheinlichkeit = [0.0045, 0.0004, 0.0002, 0.0001, 0.0001, \n",
    "                        0.0001, 0.0001, 0.0000, 0.0001, 0.0001, \n",
    "                        0.0001, 0.0001, 0.0000, 0.0000, 0.0001, \n",
    "                        0.0001, 0.0001, 0.0001, 0.0001, 0.0002, \n",
    "                        0.0002, 0.0002, 0.0002, 0.0002, 0.0002, \n",
    "                        0.0002, 0.0002, 0.0002, 0.0002, 0.0002,\n",
    "                        0.0002, 0.0002, 0.0002, 0.0002, 0.0002, \n",
    "                        0.0002, 0.0002, 0.0002, 0.0003, 0.0003, \n",
    "                        0.0003, 0.0003, 0.0003, 0.0004, 0.0004, \n",
    "                        0.0004, 0.0005, 0.0005, 0.0006, 0.0006, \n",
    "                        0.0006, 0.0007, 0.0008, 0.0009, 0.0009, \n",
    "                        0.0010, 0.0011, 0.0012, 0.0013, 0.0014, \n",
    "                        0.0015, 0.0017, 0.0018, 0.0020, 0.0022, \n",
    "                        0.0024, 0.0026, 0.0029, 0.0032, 0.0035, \n",
    "                        0.0038, 0.0042, 0.0047, 0.0053, 0.0059, \n",
    "                        0.0068, 0.0077, 0.0088, 0.0101, 0.0116, \n",
    "                        0.0136, 0.0158, 0.0186, 0.0218, 0.0255, \n",
    "                        0.0294, 0.0343, 0.0395, 0.0458, 0.0527, \n",
    "                        0.0604, 0.0682, 0.0770, 0.0864, 0.0967, \n",
    "                        0.1079, 0.1199, 0.1331, 0.1473, 0.1622]\n",
    "\n",
    "max_alter = len(sterbe_wahrscheinlichkeit) "
   ]
  },
  {
   "cell_type": "markdown",
   "id": "803498ec",
   "metadata": {},
   "source": [
    "Um schnell einen Überblick zu bekommen, wie sich diese Wahrscheinlichkeit verhält, plotten wir diese. "
   ]
  },
  {
   "cell_type": "code",
   "execution_count": 4,
   "id": "f9ff7304",
   "metadata": {},
   "outputs": [],
   "source": [
    "from matplotlib.pyplot import *"
   ]
  },
  {
   "cell_type": "code",
   "execution_count": 6,
   "id": "9ce9e9cd",
   "metadata": {},
   "outputs": [
    {
     "data": {
      "text/plain": [
       "Text(0, 0.5, 'p')"
      ]
     },
     "execution_count": 6,
     "metadata": {},
     "output_type": "execute_result"
    },
    {
     "data": {
      "image/png": "[encoded data removed]",
      "text/plain": [
       "<Figure size 432x288 with 1 Axes>"
      ]
     },
     "metadata": {
      "needs_background": "light"
     },
     "output_type": "display_data"
    }
   ],
   "source": [
    "bar(range(0, len(sterbe_wahrscheinlichkeit)), sterbe_wahrscheinlichkeit)\n",
    "title('Sterbewahrscheinlichkeit')\n",
    "xlabel('Alter')\n",
    "ylabel('p')"
   ]
  },
  {
   "cell_type": "markdown",
   "id": "93dd4bfc",
   "metadata": {},
   "source": [
    "Angenommen eine Person möchte in einem bestimmten Alter eine Lebensversicherung abschliessen. Unsere erste Frage wäre, was die Wahrscheinlichkeit ist, dass die Person ein bestimmtes Alter erlebt. \n",
    "\n",
    "Dies können wir elegant über Rekursion ausdrücken. Die Wahrscheinlichkeit $n$ Jahre alt zu werden entspricht der Wahrscheinlichkeit $n-1$ Jahre alt zu werden, mal der Wahrscheilichkeit im $n-1$-ten Lebensjahr nicht zu sterben. "
   ]
  },
  {
   "cell_type": "code",
   "execution_count": 7,
   "id": "5fbcae25",
   "metadata": {},
   "outputs": [],
   "source": [
    "# Berechnet die Überlebenswahrscheinlichkeit, dass die Person alter Jahre alt wird, \n",
    "# unter der Annahme, dass sie bei alter_zu_beginn noch am leben war. \n",
    "def berechne_ueberlebenswahrscheinlichkeit(alter, alter_zu_beginn):   \n",
    "    if alter <= alter_zu_beginn:\n",
    "        return 1\n",
    "    elif alter >= max_alter:\n",
    "        return 0\n",
    "    else:\n",
    "        # Wahrscheinlichkeit entspricht der Wahrscheinlichkeit das Vorjahr zu überleben mal der Wahrscheinlichkeit\n",
    "        # bis zum Vorjahr überhaupt überlebt zu haben. \n",
    "        return (1 - sterbe_wahrscheinlichkeit[alter - 1]) * berechne_ueberlebenswahrscheinlichkeit(alter - 1, alter_zu_beginn)"
   ]
  },
  {
   "cell_type": "markdown",
   "id": "36752a7d",
   "metadata": {},
   "source": [
    "Nun können wir einfach die Wahrscheinlichkeit berechnen, dass wir, wenn wir ein bestimmtes Alter erreichen, auch ein späteres Alter erreichen. Was ist zum Beispiel die Wahrscheinlichkeit, dass wenn wir 80 werden auch 90 Jahre alt werden? "
   ]
  },
  {
   "cell_type": "code",
   "execution_count": 12,
   "id": "1943e1e8",
   "metadata": {},
   "outputs": [
    {
     "data": {
      "text/plain": [
       "1"
      ]
     },
     "execution_count": 12,
     "metadata": {},
     "output_type": "execute_result"
    }
   ],
   "source": [
    "berechne_ueberlebenswahrscheinlichkeit(20, 98)"
   ]
  },
  {
   "cell_type": "markdown",
   "id": "56cbae8f",
   "metadata": {},
   "source": [
    "Umgekehrt ist es mit dieser Information natürlich einfach zu berechnen, was die Wahrscheinlichkeit ist in einem bestimmten Lebensjahr abzuleben, gegeben dass wir wissen, ein bestimmtes Alter erreicht zu haben. "
   ]
  },
  {
   "cell_type": "code",
   "execution_count": 13,
   "id": "f0cb0c42",
   "metadata": {},
   "outputs": [],
   "source": [
    "def berechne_absterbeordnung(alter, alter_zu_beginn):\n",
    "    p1 = berechne_ueberlebenswahrscheinlichkeit(alter, alter_zu_beginn)\n",
    "    p2 = berechne_ueberlebenswahrscheinlichkeit(alter -1, alter_zu_beginn)\n",
    "    return p2 - p1"
   ]
  },
  {
   "cell_type": "markdown",
   "id": "5ad9e603",
   "metadata": {},
   "source": [
    "Wenn jemand nicht stirbt, kann die Versicherung das Geld anlegen und bekommt jedes Jahr einen Zins. Dies kann von den Prämien abegzogen werden. "
   ]
  },
  {
   "cell_type": "code",
   "execution_count": 14,
   "id": "04e28b49",
   "metadata": {},
   "outputs": [],
   "source": [
    "def diskontiere_leistung(leistungen, alter, alter_zu_beginn, zins):\n",
    "    return leistungen / (1 + zins) ** (alter - alter_zu_beginn)"
   ]
  },
  {
   "cell_type": "markdown",
   "id": "059e78ed",
   "metadata": {},
   "source": [
    "Nun haben wir die Wahrscheinlichkeit für jedes Jahr, dass die Versicherung die Lebensversicherungsprämie auszahlen muss. \n",
    "Damit können wir die erwarteten Kosten und entsprechend die Versicherungsprämie ausrechnen. "
   ]
  },
  {
   "cell_type": "code",
   "execution_count": 15,
   "id": "274db7fa",
   "metadata": {},
   "outputs": [],
   "source": [
    "# \n",
    "# Berechnet die erwarteten Kosten für eine Versicherung, wenn diese \n",
    "# in einem gewissen Alter abgeschlossen wird\n",
    "\n",
    "def berechne_barwert(alter_zu_beginn, versicherungssumme, zins):\n",
    "    summe_leistungen = 0\n",
    "    \n",
    "    for alter in range(alter_zu_beginn, max_alter + 1):\n",
    "        \n",
    "        gewichtete_leistungen = versicherungssumme * berechne_absterbeordnung(alter, alter_zu_beginn)        \n",
    "        \n",
    "        # Die Kosten werden mit dem Zinseszins diskontiert, den wir bis zu diesem Alter erhalten. \n",
    "        diskontierte_leistungen = diskontiere_leistung(gewichtete_leistungen, alter, alter_zu_beginn, zins) \n",
    "    \n",
    "        summe_leistungen = summe_leistungen + diskontierte_leistungen;\n",
    "    return summe_leistungen\n"
   ]
  },
  {
   "cell_type": "code",
   "execution_count": 18,
   "id": "12870bb6",
   "metadata": {},
   "outputs": [
    {
     "data": {
      "text/plain": [
       "1000000.0"
      ]
     },
     "execution_count": 18,
     "metadata": {},
     "output_type": "execute_result"
    }
   ],
   "source": [
    "berechne_barwert(alter_zu_beginn = 30, versicherungssumme = 1000000, zins = 0.00)"
   ]
  },
  {
   "cell_type": "markdown",
   "id": "50eb5afe",
   "metadata": {},
   "source": [
    "#### Visualisierung\n",
    "\n",
    "Nun wollen wir die Daten noch visualisieren."
   ]
  },
  {
   "cell_type": "markdown",
   "id": "e89826e1",
   "metadata": {},
   "source": [
    "Wir visualisieren, wie die Prämie steigt, wenn wir die Versicherung später abschliessen. "
   ]
  },
  {
   "cell_type": "code",
   "execution_count": 21,
   "id": "91db17f9",
   "metadata": {},
   "outputs": [
    {
     "data": {
      "text/plain": [
       "Text(0, 0.5, 'Erwartete Kosten')"
      ]
     },
     "execution_count": 21,
     "metadata": {},
     "output_type": "execute_result"
    },
    {
     "data": {
      "image/png": "[encoded data removed]",
      "text/plain": [
       "<Figure size 432x288 with 1 Axes>"
      ]
     },
     "metadata": {
      "needs_background": "light"
     },
     "output_type": "display_data"
    }
   ],
   "source": [
    "praemie = []\n",
    "for alter_zu_beginn in range(0, max_alter):\n",
    "    praemie.append(berechne_barwert(alter_zu_beginn, 2000000, 0.1))\n",
    "\n",
    "bar(range(0, len(praemie)), praemie)\n",
    "title('Prämie')       \n",
    "xlabel('Alter zum Zeitpunkt des Abschlusses')\n",
    "ylabel('Erwartete Kosten')\n"
   ]
  },
  {
   "cell_type": "code",
   "execution_count": null,
   "id": "526d9896",
   "metadata": {},
   "outputs": [],
   "source": []
  }
 ],
 "metadata": {
  "kernelspec": {
   "display_name": "Python 3 (ipykernel)",
   "language": "python",
   "name": "python3"
  },
  "language_info": {
   "codemirror_mode": {
    "name": "ipython",
    "version": 3
   },
   "file_extension": ".py",
   "mimetype": "text/x-python",
   "name": "python",
   "nbconvert_exporter": "python",
   "pygments_lexer": "ipython3",
   "version": "3.9.7"
  }
 },
 "nbformat": 4,
 "nbformat_minor": 5
}

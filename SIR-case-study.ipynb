{
 "cells": [
  {
   "cell_type": "markdown",
   "id": "ba5b1899",
   "metadata": {},
   "source": [
    "# S.I.R. Modell\n",
    "\n",
    "Diese Case-Study ist vom Blog-post von Bhaskar Krishnamachari [1] sowie der Fallstudie aus dem Buch \"Learning Scientific Python\" von Christian Hill [2] inspiriert. \n",
    "\n"
   ]
  },
  {
   "cell_type": "markdown",
   "id": "109bb164",
   "metadata": {},
   "source": [
    "Das S.I.R Model ist ein klassischer Ansatz in der Epidemiologie zur Modellierung der Ausbreitung von Krankheiten mit Immunität in einer Population. Jede Person wird dabei in eine von drei Gruppen eingeteilt:\n",
    "* Gruppe S (Susceptible): Nicht immune, gesunde Personen\n",
    "* Gruppe I (Infected): Infizierte Personen\n",
    "* Gruppe R (Recovered): Genesene (immunisierte) Personen\n",
    "\n",
    "Es werden folgende vereinfachenden Annahmen gemacht:\n",
    "* Jede Person wird nur einmal infiziert und wird danach gesund oder stirbt.\n",
    "* Infizierte sind sofort ansteckend.\n",
    "* Die Infektionsrate ist konstant.\n",
    "* Die verstorbenen Personen werden wie die Immunisierten zu R gezählt. \n",
    "\n",
    "Mathematisch entspricht das Modell einer gekoppelten Differentialgleichung. Wir werden aber gleich sehen, dass dies in unserer Simulation etwas ganz einfaches ist. Das Modell definiert dabei wie sich S, I und R über einen Zeitschritt ändern und ist wie folgt definiert:\n",
    "$$\n",
    "\\begin{align}\n",
    "\\frac{dS}{dt} &= -\\beta \\frac{SI}{N}  \\\\\n",
    "\\frac{dI}{dt} &= \\beta \\frac{SI}{N} - \\gamma I  \\\\\n",
    "\\frac{dR}{dt}  &= R_t + \\gamma I_t\n",
    "\\end{align}\n",
    "$$\n",
    "Dabei bezeichnet die berechnete Zahl $\\frac{dX}{dt}$ jeweils die Änderung der Grösse $X$ in einem Zeitschritt.  Die Zahl $\\beta$ bezeichnet die Ansteckungsrate (wieviele Ansteckungen ein Fall pro Zeiteinheit verursacht) und die Zahl $\\gamma$ die Rate mit der sich infizierte erholen. Die Zahl $N = S + I + R$ bezeichnet die totale Anzahl Personen in der Simulation.\n",
    "\n",
    "Wie erwähnt ist in unserer Computersimulation das Berechnen der Differentialgleichung sehr einfach. In unserer Simulation entspricht ein Zeitschritt einem Tag. Wir berechnen die zu erwartende Änderung pro Gruppe (S, I, R) während des Tages und addieren diese dann zur Situation am aktuellen Tag. So erhalten wir die Prognose für den Zustand am nächsten Tag. Wir berechnen also Folgendes:\n",
    "\n",
    "$$\n",
    "\\begin{align}\n",
    "S_{t+1}  &= S_{t} + (-\\beta \\frac{S_{t}I_{t}}{N})  \\\\\n",
    "I_{t+1} &= I_{t} + \\beta \\frac{S_{t}I_{t}}{N} - \\gamma I_{t}  \\\\\n",
    "R_{t+1}  &= R_{t} + \\gamma I_{t}\\\\\n",
    "\\end{align}\n",
    "$$\n",
    "\n",
    "Dabei bezeichen $S_{t}$, $I_{t}$ und $R_{t}$ jeweils die Situation am aktuellen Tag und $S_{t+1}, I_{t+1}, R_{t+1}$ die Situation am nächsten Tag. Sie sehen, alle Gleichungen bestehen aus einfachen Produkten, Brüchen, Additionen, Subtraktionen bzw. dem Umkehren des Vorzeichens.\n"
   ]
  },
  {
   "cell_type": "markdown",
   "id": "f5f7cad4",
   "metadata": {},
   "source": [
    "Wir werden dieses Modell nun in Python simulieren indem wir die Berechnungen implementieren und dann wiederholt in einer Schleife anwenden, um die Werte für eine bestimmte Anzahl Tage zu erhalten."
   ]
  },
  {
   "cell_type": "markdown",
   "id": "9ecbe1dd",
   "metadata": {},
   "source": [
    "#### Bibliotheken\n",
    "\n",
    "Um die Verläufe zu plotten nutzen wir wieder pyplot, welches wir mit der nächsten Zeile importieren. "
   ]
  },
  {
   "cell_type": "code",
   "execution_count": 2,
   "id": "db75f7fd",
   "metadata": {},
   "outputs": [],
   "source": [
    "from matplotlib.pyplot import *"
   ]
  },
  {
   "cell_type": "markdown",
   "id": "921ba614",
   "metadata": {},
   "source": [
    "#### Ein Teilschritt der Simulation"
   ]
  },
  {
   "cell_type": "markdown",
   "id": "91228f13",
   "metadata": {},
   "source": [
    "Wir schreiben uns als erstes eine Funktion, welche den aktuellen Zustand der Population (beschrieben durch $S, I, R$) sowie die Parameter $\\beta$ und $\\gamma$ entgegennimmt und uns die Veränderung von $R$ für einen Tag nach obiger Formel berechnet und zurück gibt."
   ]
  },
  {
   "cell_type": "code",
   "execution_count": null,
   "id": "cc18c2f6",
   "metadata": {},
   "outputs": [],
   "source": [
    "def nextDayR(S, I, R, beta, gamma):\n",
    "    pass"
   ]
  },
  {
   "cell_type": "markdown",
   "id": "4398231c",
   "metadata": {},
   "source": [
    "#### Ein Schritt der Simulation"
   ]
  },
  {
   "cell_type": "markdown",
   "id": "3ff812ff",
   "metadata": {},
   "source": [
    "Nun machen wir das ganze für alle drei Grössen $S, I, R$ zusammen. Der Rückgabewert der Funktion ist nun nicht mehr nur eine Zahl, sondern ein Tupel mit den neuen Werten für $S, I$ und $R$. "
   ]
  },
  {
   "cell_type": "code",
   "execution_count": null,
   "id": "0731b64c",
   "metadata": {},
   "outputs": [],
   "source": [
    "# Differentialgleichungen des S.I.R. Modells\n",
    "def nextDay(S, I, R, beta, gamma):\n",
    "    pass\n"
   ]
  },
  {
   "cell_type": "markdown",
   "id": "d54f4f3f",
   "metadata": {},
   "source": [
    "Mit Hilfe der Funktion `nextDay` können wir nun den Verlauf einfach simulieren. Wir initialisieren die Parameter und rufen dann die Funktion ```nextDay``` innerhalb einer Schleife auf. In jedem Schleifendurchlauf wird ein Tag simuliert. \n",
    "Dabei speichern wir den jeweiligen Zustand der Population in Listen, damit wir diesen am Ende visualisieren können. "
   ]
  },
  {
   "cell_type": "code",
   "execution_count": 20,
   "id": "89eab3f6",
   "metadata": {},
   "outputs": [
    {
     "data": {
      "image/png": "[encoded data removed]",
      "text/plain": [
       "<Figure size 432x288 with 1 Axes>"
      ]
     },
     "metadata": {
      "needs_background": "light"
     },
     "output_type": "display_data"
    }
   ],
   "source": [
    "# Anfangszustand\n",
    "N = 1000       # Anzahl Personen\n",
    "I = 1          # Infizierte\n",
    "R = 0          # Genesene\n",
    "S = N - I - R  # Gefährdete Personen\n",
    "\n",
    "# Parameter\n",
    "beta = 0.2        # Ansteckungsrate\n",
    "gamma = 1.0 / 12  # Genesungsrate\n",
    "\n",
    "# In diesen Listen werden die Zahlen pro Tag gespeichert\n",
    "Ss = []\n",
    "Is = []\n",
    "Rs = []\n",
    "\n",
    "# Simulation mehrerer Tage\n",
    "days = 365\n",
    "for i in range(1, days):\n",
    "    pass\n",
    "\n",
    "\n",
    "# Visualisierung\n",
    "plot(Ss, label= \"Susceptible\")\n",
    "plot(Is, label= \"Infected\")\n",
    "plot(Rs, label = \"Recovered\")\n",
    "legend()\n",
    "xlabel(\"Days\")\n",
    "ylabel(\"Persons\")\n",
    "show()"
   ]
  },
  {
   "cell_type": "markdown",
   "id": "b545cfcc",
   "metadata": {},
   "source": [
    "### Übungen zum selber probieren\n",
    "\n",
    "* Erweitern Sie die Simulation, so dass die Immunität wieder verloren gehen kann. Führen Sie dazu einen neuen Modellparameter $\\delta$ ein\n",
    "* Erweitern Sie die Simulation, so dass infizierte Personen zu einem bestimmten Anteil sterben können.\n",
    "* Erweitern Sie die Simulation, so dass auch neue Personen geboren werden können. "
   ]
  },
  {
   "cell_type": "code",
   "execution_count": null,
   "id": "ee872d36",
   "metadata": {},
   "outputs": [],
   "source": []
  },
  {
   "cell_type": "markdown",
   "id": "7c2bd0dd",
   "metadata": {},
   "source": [
    "### Referenzen\n",
    "1. [Bhaskar Krishnamachari - Simulating Covid-19 with 6 lines of code — the SIR epidemic model](https://medium.com/@bhaskark2/simulating-covid-19-in-6-lines-of-code-the-sir-epidemic-model-89aab118cb7b)\n",
    "2. [Christian Hill - Learning Scientific Programming with Python](https://scipython.com/book/chapter-8-scipy/additional-examples/the-sir-epidemic-model/)\n"
   ]
  }
 ],
 "metadata": {
  "kernelspec": {
   "display_name": "Python 3 (ipykernel)",
   "language": "python",
   "name": "python3"
  },
  "language_info": {
   "codemirror_mode": {
    "name": "ipython",
    "version": 3
   },
   "file_extension": ".py",
   "mimetype": "text/x-python",
   "name": "python",
   "nbconvert_exporter": "python",
   "pygments_lexer": "ipython3",
   "version": "3.9.7"
  },
  "toc": {
   "base_numbering": 1,
   "nav_menu": {},
   "number_sections": false,
   "sideBar": false,
   "skip_h1_title": false,
   "title_cell": "Table of Contents",
   "title_sidebar": "Contents",
   "toc_cell": false,
   "toc_position": {},
   "toc_section_display": false,
   "toc_window_display": false
  }
 },
 "nbformat": 4,
 "nbformat_minor": 5
}

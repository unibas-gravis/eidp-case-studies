{
 "cells": [
  {
   "cell_type": "markdown",
   "id": "8538e0ae",
   "metadata": {},
   "source": [
    "# Der Bibelcode"
   ]
  },
  {
   "cell_type": "markdown",
   "id": "46f1bc0b",
   "metadata": {},
   "source": [
    "### Einführung\n",
    "\n",
    "\n",
    "1997 hat ein Buch des Journalisten Michael Drosnin grosse Aufmerksamkeit erregt. Das Buch mit dem Namen *Bible code* postuliert, dass in der Bibel (genauer gesagt in der Tora) versteckte Botschaften codiert sind. Diese Botschaften sind durch equidistante Folgen von Zeichen codiert, wie im folgenden Bild gezeigt ist (Quelle: Wikipedia)\n",
    "<figure style=\"align:center\">\n",
    "    <img src=\"images/bible-code.png\" width=200px/>\n",
    "</figure>\n",
    "\n",
    "In dieser Fallstudie werden wir überprüfen, ob wir auch in anderen Werken solche Botschaften finden. Wir nutzen dazu das Buch Krieg und Frieden von Leo Tolstoy, welches frei auf [Projekt Gutenberg](https://www.gutenberg.org) verfügbar ist. "
   ]
  },
  {
   "cell_type": "markdown",
   "id": "8e78ea27",
   "metadata": {},
   "source": [
    "### Aufgabe\n",
    "\n",
    "Unser Ziel ist es in einem Text alle als *Bible code* versteckten Wörter zu finden welche in einem Wörterbuch vorkommen. Dabei ist der Text in einer einfachen `.txt`-Datei gegeben und das Wörterbuch als eine `.json`-Datei."
   ]
  },
  {
   "cell_type": "markdown",
   "id": "13f7e56e",
   "metadata": {},
   "source": [
    "### Problem Analyse und Zerlegung\n",
    "\n",
    "Wir wollen als erstes das ganze Problem in Teilprobleme zerlegen. Dabei sollen die Teilprobleme einfach zu implementieren sein und sich auch gut zur gesamten Lösung zusammensetzten lassen.\n",
    "\n",
    "Überlegen Sie sich Teilprobleme und ergänzen Sie die Liste damit. Überlegen Sie sich auch, welche Teilprobleme Sie einfach als Funktion implementieren können:\n",
    "\n",
    "- Einlesen des Textes aus einer .txt-Datei.\n",
    "- Einlesen eines Wörterbuches aus einer .json-Datei.\n",
    "- ...\n",
    "- *Entfernen von Sondernzeichen aus einem Text (und umwandeln in Kleinbuchstaben).*\n",
    "- *Extrahieren eines Wortes aus einem Text an einer Stelle mit gegebener Distanz zwischen den Buchstaben.*\n",
    "- *Testen von allen Worten im Dictionary.*\n",
    "- *Speichern einer Stelle wo ein Wort gefunden wurde.*\n",
    "- *Ausgabe aller Stellen wo ein Wort gefunden wurde.*\n",
    "- *Ausgabe wie oft ein Wort gefunden wurde.*"
   ]
  },
  {
   "cell_type": "markdown",
   "id": "1162f942",
   "metadata": {},
   "source": [
    "### Vorbereiten der Daten\n",
    "\n",
    "Als Erstes wollen wir die Vorverarbeitung der Daten erstellen. Wir wollen unsere Chancen auf einen Treffer erhöhen indem wir von einem Text möglichst nur die Buchstaben behalten. Dazu schreiben wir uns eine erste Hilfsfunktion. Diese soll: \n",
    "- auf Basis eines übergebenen Textes einen neuen Text erstellen.\n",
    "- möglichst nur Buchstaben behalten.\n",
    "- die Buchstaben in Kleinbuchstaben umwandeln.\n",
    "- Jedes Sonderzeichen durch ein Leerzeichen ersetzen. "
   ]
  },
  {
   "cell_type": "code",
   "execution_count": 27,
   "id": "867a37c3",
   "metadata": {},
   "outputs": [],
   "source": [
    "def clean_text(text):\n",
    "    s = \"\" \n",
    "    for c in text:\n",
    "        if c in \"abcdefghijklmnopqrstuvwxyzABCDEFGHIJKLMNOPQRSTUVWXYZ\":\n",
    "            s += c.lower()\n",
    "        else: \n",
    "            s += \" \"\n",
    "    return s"
   ]
  },
  {
   "cell_type": "markdown",
   "id": "4e90c403",
   "metadata": {},
   "source": [
    "Da wir all unseren Code den wir schreiben immer auch testen sollen, rufen wir die Funktion mit einem einfachen Text auf. Wir schauen dann ob die Funktion das tut was wir erwarten."
   ]
  },
  {
   "cell_type": "code",
   "execution_count": 2,
   "id": "54ba7749",
   "metadata": {},
   "outputs": [
    {
     "data": {
      "text/plain": [
       "'eine frage  ein ausrufezeichen  und ein punkt '"
      ]
     },
     "execution_count": 2,
     "metadata": {},
     "output_type": "execute_result"
    }
   ],
   "source": [
    "clean_text(\"Eine Frage? ein Ausrufezeichen! und ein Punkt.\")"
   ]
  },
  {
   "cell_type": "markdown",
   "id": "100aa6a2",
   "metadata": {},
   "source": [
    "### Text laden\n",
    "Als nächstes wollen wir das laden des Textes aus einem File implementieren. Auch dazu schreiben wir uns eine Funktion welche den Inhalt des Files `war-and-peace.txt` laden soll. Der Text soll dann gleich noch von Sonderzeichen befreit werden."
   ]
  },
  {
   "cell_type": "code",
   "execution_count": 3,
   "id": "994a06d2",
   "metadata": {},
   "outputs": [],
   "source": [
    "def load_preprocessed_text():    \n",
    "    with open(\"war-and-peace.txt\", 'r') as f:\n",
    "        text = f.read()\n",
    "    return clean_text(text)"
   ]
  },
  {
   "cell_type": "markdown",
   "id": "787fbafa",
   "metadata": {},
   "source": [
    "Test wir doch auch diese Funktion gleich indem wir die ersten 100 Zeichen ausgeben."
   ]
  },
  {
   "cell_type": "code",
   "execution_count": 4,
   "id": "7a037451",
   "metadata": {},
   "outputs": [
    {
     "data": {
      "text/plain": [
       "'   the project gutenberg ebook of war and peace  by leo tolstoy  this ebook is for the use of anyone'"
      ]
     },
     "execution_count": 4,
     "metadata": {},
     "output_type": "execute_result"
    }
   ],
   "source": [
    "load_preprocessed_text()[0:100]"
   ]
  },
  {
   "cell_type": "markdown",
   "id": "085dbebd",
   "metadata": {},
   "source": [
    "### Laden des Dictionaries\n",
    "\n",
    "Das Dictionary liegt in einem speziellen Format, dem *json* format vor. Dies ist ein oft benutztes Datenformat zum Austausch von Daten. Das *json* format kann direkt in ein Dictionary umgewandelt werden. "
   ]
  },
  {
   "cell_type": "code",
   "execution_count": 29,
   "id": "a43a3f88",
   "metadata": {},
   "outputs": [
    {
     "name": "stdout",
     "output_type": "stream",
     "text": [
      "102217 words loaded into the dictionary\n"
     ]
    }
   ],
   "source": [
    "def load_dictionary():\n",
    "    import json\n",
    "    with open(\"dictionary.json\", \"r\") as f:\n",
    "        dictionary = json.load(f)\n",
    "        return dictionary\n",
    "\n",
    "# Testen inklusive\n",
    "dictionary = load_dictionary()\n",
    "print(\"{} words loaded into the dictionary\".format(len(dictionary)))"
   ]
  },
  {
   "cell_type": "markdown",
   "id": "e5d5598c",
   "metadata": {},
   "source": [
    "Probieren wir doch aus, ob wir Definitionen für einige Wichtige Wörter erhalten. "
   ]
  },
  {
   "cell_type": "code",
   "execution_count": 41,
   "id": "e24cd3f6",
   "metadata": {
    "scrolled": true
   },
   "outputs": [
    {
     "name": "stdout",
     "output_type": "stream",
     "text": [
      "python:  1. (ZoÃ¶l.)  Any species of very large snakes of the genus Python, and allied genera, of the family PythonidÃ¦. They are nearly allied to the boas. Called also rock snake. Note: The pythons have small pelvic bones, or anal spurs, two rows of subcaudal scales, and pitted labials. They are found in Africa, Asia, and the East Indies. 2. A diviner by spirits. \"[Manasses] observed omens, and appointed pythons.\" 4 Kings xxi. 6 (Douay version).\n",
      "\n",
      "code:  1. A body of law, sanctioned by legislation, in which the rules of law to be specifically applied by the courts are set forth in systematic form; a compilation of laws by public authority; a digest. Note: The collection of laws made by the order of Justinian is sometimes called, by way of eminence. \"The Code\" Wharton. 2. Any system of rules or regulations relating to one subject; as, the medical code, a system of rules for the regulation of the professional conduct of physicians; the naval code, a system of rules for making communications at sea means of signals. Code civil or Code Napoleon, a code enacted in France in 1803 and 1804, embodying the law of rights of persons and of property generally. Abbot.\n"
     ]
    }
   ],
   "source": [
    "print(\"python: \", dictionary[\"python\"])\n",
    "print(\"\")\n",
    "print(\"code: \", dictionary[\"code\"])"
   ]
  },
  {
   "cell_type": "markdown",
   "id": "541d2d9f",
   "metadata": {},
   "source": [
    "### Äquidistance Wörter fixer Länge\n",
    "\n",
    "Wir schreiben uns nun eine Funktion, welche Wörter, bestehend aus äquidistanten Buchstabensequenzen, extrahiert. Von einer bestimmten Startposition ausgehend, sollen alle Worte gebildet werden, die länger als eine angegebene Mindestlänge sind und kleiner als eine angegebene Maximallänge.\n",
    "\n",
    "Die Worte werden in einer Liste gespeichert, die an den Aufrufer zurückgegeben wird. "
   ]
  },
  {
   "cell_type": "code",
   "execution_count": 50,
   "id": "05cce20c",
   "metadata": {},
   "outputs": [],
   "source": [
    "def equidistant_char_seq(text, start_position, distance, min_word_len=5, max_word_len=15):\n",
    "    words = []\n",
    "    word = \"\" \n",
    "    pos = start_position\n",
    "    word_len = 0\n",
    "    while word_len < max_word_len and pos < len(text):\n",
    "        word = word + text[pos]\n",
    "        pos = pos + distance\n",
    "        if (word_len >= min_word_len - 1):\n",
    "            words.append(word)\n",
    "        word_len = word_len + 1\n",
    "        \n",
    "    return words"
   ]
  },
  {
   "cell_type": "code",
   "execution_count": 65,
   "id": "bfa7c5ff",
   "metadata": {},
   "outputs": [
    {
     "data": {
      "text/plain": [
       "['pytho', 'python']"
      ]
     },
     "execution_count": 65,
     "metadata": {},
     "output_type": "execute_result"
    }
   ],
   "source": [
    "equidistant_char_seq(\"paybtchcodn\", 0, 2, min_word_len = 5, max_word_len=7)"
   ]
  },
  {
   "cell_type": "markdown",
   "id": "b4df3332",
   "metadata": {},
   "source": [
    "Wir wollen uns die Information speichern, wo ein Wort innerhalb eines Texts gefunden wurde, und mit welcher Distanz dies extrahiert wurde. Dazu verwenden wir eine Klasse. "
   ]
  },
  {
   "cell_type": "code",
   "execution_count": 72,
   "id": "e1359446",
   "metadata": {},
   "outputs": [],
   "source": [
    "class WordOccurrence:\n",
    "    def __init__(self, word, pos, distance):\n",
    "        self.word = word\n",
    "        self.pos = pos\n",
    "        self.distance = distance\n",
    "        \n",
    "    \n",
    "    def __repr__(self):\n",
    "        return (\"Word: \\\"{}\\\", Position: {}, Distance: {}\".format(self.word, self.pos, self.distance))"
   ]
  },
  {
   "cell_type": "markdown",
   "id": "f793caaf",
   "metadata": {},
   "source": [
    "Und nun können wir eine einfache Funktion schreiben, die für eine gegebene Distanz an jeder Stelle im Code die Worte extrahiert, und schaut ob die im Dictionary vorkommen (also ob es sich um richtige Worte handelt). Wir speichern jedes gefunden Wort in einer Liste. "
   ]
  },
  {
   "cell_type": "code",
   "execution_count": 73,
   "id": "d712adc8",
   "metadata": {},
   "outputs": [
    {
     "data": {
      "text/plain": [
       "[Word: \"python\", Position: 1, Distance: 2]"
      ]
     },
     "execution_count": 73,
     "metadata": {},
     "output_type": "execute_result"
    }
   ],
   "source": [
    "def find_all_words(text, dictionary, distance):\n",
    "    occurrences = []\n",
    "    for start_position in range(0,len(text)):\n",
    "        words = equidistant_char_seq(text, start_position, distance)\n",
    "        for word in words:\n",
    "            if word in dictionary:\n",
    "                occurrences.append(WordOccurrence(word, start_position, distance))\n",
    "    return occurrences\n",
    "\n",
    "# Wir wissen was raus kommen sollte...\n",
    "dictionary = load_dictionary()\n",
    "#find_all_words(text, dictionary, 2)\n",
    "find_all_words(\"apbyctdheofngsaanbbacckdde\", dictionary, 2)"
   ]
  },
  {
   "cell_type": "markdown",
   "id": "256f74ed",
   "metadata": {},
   "source": [
    "Und nun lassen wir das auf unserem Text \"War and Peace\" laufen. Da es sich hierbei um einen ziemlichen Wälzer handelt, kann dies einige Zeit dauert. Um es etwas effizienter machen, durchsuchen wir nur die ersten hunderttausend Zeichen.  "
   ]
  },
  {
   "cell_type": "code",
   "execution_count": 84,
   "id": "7aedaf5b",
   "metadata": {
    "scrolled": true
   },
   "outputs": [],
   "source": [
    "text = load_preprocessed_text()\n",
    "dictionary = load_dictionary()\n",
    "\n",
    "found_words = find_all_words(text[0:100000], dictionary, 5)"
   ]
  },
  {
   "cell_type": "markdown",
   "id": "1c44a7e5",
   "metadata": {},
   "source": [
    "Sie sehen, solche Worte finden wir zuhauf. \n",
    "Zum Schluss geben wir noch die Textstelle für jedes Wort aus:"
   ]
  },
  {
   "cell_type": "code",
   "execution_count": 91,
   "id": "07e27286",
   "metadata": {},
   "outputs": [
    {
     "name": "stdout",
     "output_type": "stream",
     "text": [
      "Word troad found in snippet tenberg ebook war and pea (distance 5))\n",
      "Word rabat found in snippet rpetrated by that antichr (distance 5))\n",
      "Word stair found in snippet stivities and fireworks a (distance 5))\n",
      "Word sewin found in snippet s  overflowed with animat (distance 5))\n",
      "Word tamis found in snippet tion and impulsiveness  t (distance 5))\n",
      "Word casal found in snippet cal matters anna pavlovna (distance 5))\n",
      "Word toddle found in snippet ted to find  and still seeks   (distance 5))\n",
      "Word fifty found in snippet for himself  but only des (distance 5))\n",
      "Word alose found in snippet at all europe is powerles (distance 5))\n",
      "Word torso found in snippet the montmorencys through  (distance 5))\n",
      "Word teest found in snippet to meet them   said the p (distance 5))\n",
      "Word strut found in snippet s wants baron funke to be (distance 5))\n",
      "Word pearl found in snippet prince   lavater would ha (distance 5))\n",
      "Word barde found in snippet bles a year  and   he wen (distance 5))\n",
      "Word crete found in snippet country  he is the well k (distance 5))\n",
      "Word penna found in snippet ps the thing can be arran (distance 5))\n",
      "Word reule found in snippet r  the beautiful helene   (distance 5))\n",
      "Word snore found in snippet shortness of her upper li (distance 5))\n",
      "Word syrtis found in snippet ss   you wrote that it was to  (distance 5))\n",
      "Word reule found in snippet r  the beautiful helene   (distance 5))\n",
      "Word seora found in snippet s scheme for perpetual pe (distance 5))\n",
      "Word trist found in snippet to her duties as hostess  (distance 5))\n",
      "Word sheal found in snippet sia  he knew that all the (distance 5))\n",
      "Word steen found in snippet s  with the exception of  (distance 5))\n",
      "Word eider found in snippet er maitre d hotel serves  (distance 5))\n",
      "Word ettin found in snippet een it in the kitchen wou (distance 5))\n",
      "Word sorter found in snippet stle of her white dress trimme (distance 5))\n",
      "Word erode found in snippet e story produced an effec (distance 5))\n",
      "Word dildo found in snippet d again relapsed into her (distance 5))\n",
      "Word think found in snippet t   she said  and asking  (distance 5))\n",
      "Word hirer found in snippet hile in her case everythi (distance 5))\n",
      "Word teest found in snippet t  knee breeches of the c (distance 5))\n",
      "Word month found in snippet me upon bonaparte  who al (distance 5))\n",
      "Word barter found in snippet be transferred to the guards a (distance 5))\n",
      "Word galei found in snippet gain and clutched prince  (distance 5))\n",
      "Word overdo found in snippet or have i ever reminded you of (distance 5))\n",
      "Word eared found in snippet end  and are prepared if  (distance 5))\n",
      "Word barter found in snippet be transferred to the guards   (distance 5))\n",
      "Word litre found in snippet ll suited to her careworn (distance 5))\n",
      "Word total found in snippet the coronation at milan   (distance 5))\n",
      "Word fovea found in snippet form of government  and i (distance 5))\n",
      "Word croat found in snippet conversation   almost all (distance 5))\n",
      "Word yerba found in snippet y gone over to bonaparte  (distance 5))\n",
      "Word throe found in snippet ter the murder of the duc (distance 5))\n",
      "Word speet found in snippet some people   he went on  (distance 5))\n",
      "Word throe found in snippet ter the murder of the duc (distance 5))\n",
      "Word atone found in snippet ause the bourbons fled fr (distance 5))\n",
      "Word cirri found in snippet cipation from prejudices  (distance 5))\n",
      "Word suede found in snippet saviour preached liberty  (distance 5))\n",
      "Word toret found in snippet the contrary  we wanted l (distance 5))\n",
      "Word mitome found in snippet mpossible to stop him  she ral (distance 5))\n",
      "Word chare found in snippet ca  that was horrible   s (distance 5))\n",
      "Word tense found in snippet t a year in russia  every (distance 5))\n",
      "Word oleone found in snippet o would meet whom  and when an (distance 5))\n",
      "Word neese found in snippet n  the general s three co (distance 5))\n",
      "Word ronne found in snippet r a room and converse in  (distance 5))\n",
      "Word trona found in snippet t expression  anna pavlov (distance 5))\n",
      "Word inane found in snippet ing anna pavlovna  felt t (distance 5))\n",
      "Word lisne found in snippet ll   it has been a deligh (distance 5))\n",
      "Word ghole found in snippet g up her downy little lip (distance 5))\n",
      "Word sessa found in snippet s were closed  so weary a (distance 5))\n",
      "Word edema found in snippet eepy did he seem    are y (distance 5))\n",
      "Word wiper found in snippet went into prince andrew s (distance 5))\n",
      "Word tenno found in snippet to the young man   now go (distance 5))\n",
      "Word hetman found in snippet h none of the embarrassment so (distance 5))\n",
      "Word spere found in snippet said prince andrew gently (distance 5))\n",
      "Word porgy found in snippet peak of her pregnancy bef (distance 5))\n",
      "Word berth found in snippet before pierre  though the (distance 5))\n",
      "Word enode found in snippet e    no  don t distress y (distance 5))\n",
      "Word shrag found in snippet s without restraining her (distance 5))\n",
      "Word shote found in snippet sing his voice to the pit (distance 5))\n",
      "Word goter found in snippet gh  going to the door   t (distance 5))\n",
      "Word heben found in snippet had never before seen on  (distance 5))\n",
      "Word airol found in snippet anything from yourself in (distance 5))\n",
      "Word tingis found in snippet th brilliant light  it was evi (distance 5))\n",
      "Word heady found in snippet he seemed at ordinary tim (distance 5))\n",
      "Word cerin found in snippet chanted circle i cannot e (distance 5))\n",
      "Word tarin found in snippet t escape from  i am now g (distance 5))\n",
      "Word steen found in snippet s what women are when you (distance 5))\n",
      "Word assai found in snippet ays astonished at prince  (distance 5))\n",
      "Word shote found in snippet s light enough to see a l (distance 5))\n",
      "Word apnea found in snippet as expecting the usual se (distance 5))\n",
      "Word threpe found in snippet that his promise to prince and (distance 5))\n",
      "Word barege found in snippet be dead  or something so extra (distance 5))\n",
      "Word renne found in snippet r nine young men were cro (distance 5))\n",
      "Word ennew found in snippet e young men were crowding (distance 5))\n",
      "Word inane found in snippet ishman s hand and clearly (distance 5))\n",
      "Word tosto found in snippet two corners of the mouth  (distance 5))\n",
      "Word semen found in snippet spected him more than the (distance 5))\n",
      "Word sneed found in snippet s among the rakes and sca (distance 5))\n",
      "Word etape found in snippet e to the wall  pierre hid (distance 5))\n",
      "Word roper found in snippet res now expressed horror  (distance 5))\n",
      "Word opera found in snippet ow expressed horror and f (distance 5))\n",
      "Word arete found in snippet and trembled with the eff (distance 5))\n",
      "Word snood found in snippet suddenly dolokhov made a  (distance 5))\n",
      "Word tosto found in snippet the rostovs  with whom sh (distance 5))\n",
      "Word carte found in snippet ce transferred to the gua (distance 5))\n",
      "Word carter found in snippet ce transferred to the guards a (distance 5))\n",
      "Word taint found in snippet ther and mingling with th (distance 5))\n",
      "Word aisle found in snippet ay   i am so delighted    (distance 5))\n",
      "Word shade found in snippet s father managed somehow  (distance 5))\n",
      "Word terse found in snippet t some actresses  the pol (distance 5))\n",
      "Word seeth found in snippet s foreign education has d (distance 5))\n",
      "Word posse found in snippet pection business   remark (distance 5))\n",
      "Word shirl found in snippet s with an inquiring look  (distance 5))\n",
      "Word bairn found in snippet boys and girls running to (distance 5))\n",
      "Word shied found in snippet something in the folds of (distance 5))\n",
      "Word ergon found in snippet ed her flight to bring he (distance 5))\n",
      "Word astir found in snippet ay   said the visitor   w (distance 5))\n",
      "Word harle found in snippet hin bare arms  little leg (distance 5))\n",
      "Word arles found in snippet are arms  little legs in  (distance 5))\n"
     ]
    }
   ],
   "source": [
    "for word_occurence in found_words:\n",
    "    pos = word_occurence.pos\n",
    "    word = word_occurence.word\n",
    "    dist = word_occurence.distance\n",
    "    \n",
    "    snippet = text[pos : word_occurence.pos + dist * len(word)]\n",
    "\n",
    "    print(\"Word {} found in snippet {} (distance {}))\".format(word, snippet, dist))"
   ]
  },
  {
   "cell_type": "code",
   "execution_count": null,
   "id": "a9f98d1f",
   "metadata": {},
   "outputs": [],
   "source": []
  }
 ],
 "metadata": {
  "kernelspec": {
   "display_name": "Python 3 (ipykernel)",
   "language": "python",
   "name": "python3"
  },
  "language_info": {
   "codemirror_mode": {
    "name": "ipython",
    "version": 3
   },
   "file_extension": ".py",
   "mimetype": "text/x-python",
   "name": "python",
   "nbconvert_exporter": "python",
   "pygments_lexer": "ipython3",
   "version": "3.9.7"
  },
  "toc": {
   "base_numbering": 1,
   "nav_menu": {},
   "number_sections": false,
   "sideBar": false,
   "skip_h1_title": false,
   "title_cell": "Table of Contents",
   "title_sidebar": "Contents",
   "toc_cell": false,
   "toc_position": {},
   "toc_section_display": false,
   "toc_window_display": false
  }
 },
 "nbformat": 4,
 "nbformat_minor": 5
}

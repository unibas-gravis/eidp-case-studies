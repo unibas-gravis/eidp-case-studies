{
 "cells": [
  {
   "cell_type": "markdown",
   "id": "8538e0ae",
   "metadata": {},
   "source": [
    "# Der Bibelcode"
   ]
  },
  {
   "cell_type": "markdown",
   "id": "46f1bc0b",
   "metadata": {},
   "source": [
    "### Einführung\n",
    "\n",
    "\n",
    "1997 hat ein Buch des Journalisten Michael Drosnin grosse Aufmerksamkeit erregt. Das Buch mit dem Namen *Bible code* postuliert, dass in der Bibel (genauer gesagt in der Tora) versteckte Botschaften codiert sind. Diese Botschaften sind durch equidistante Folgen von Zeichen codiert, wie im folgenden Bild gezeigt ist (Quelle: Wikipedia)\n",
    "<figure style=\"align:center\">\n",
    "    <img src=\"images/bible-code.png\" width=200px/>\n",
    "</figure>\n",
    "\n",
    "In dieser Fallstudie werden wir überprüfen, ob wir auch in anderen Werken solche Botschaften finden. Wir nutzen dazu das Buch Krieg und Frieden von Leo Tolstoy, welches frei auf [Projekt Gutenberg](https://www.gutenberg.org) verfügbar ist. "
   ]
  },
  {
   "cell_type": "markdown",
   "id": "8e78ea27",
   "metadata": {},
   "source": [
    "### Aufgabe\n",
    "\n",
    "Unser Ziel ist es in einem Text alle als *Bible code* versteckten Wörter zu finden welche in einem Wörterbuch vorkommen. Dabei ist der Text in einer einfachen `.txt`-Datei gegeben und das Wörterbuch als eine `.json`-Datei."
   ]
  },
  {
   "cell_type": "markdown",
   "id": "13f7e56e",
   "metadata": {},
   "source": [
    "### Problem Analyse und Zerlegung\n",
    "\n",
    "Wir wollen als erstes das ganze Problem in Teilprobleme zerlegen. Dabei sollen die Teilprobleme einfach zu implementieren sein und sich auch gut zur gesamten Lösung zusammensetzten lassen.\n",
    "\n",
    "Überlegen Sie sich Teilprobleme und ergänzen Sie die Liste damit. Überlegen Sie sich auch, welche Teilprobleme Sie einfach als Funktion implementieren können:\n",
    "\n",
    "- Einlesen des Textes aus einer .txt-Datei.\n",
    "- Einlesen eines Wörterbuches aus einer .json-Datei.\n",
    "- ...\n",
    "- *Entfernen von Sondernzeichen aus einem Text (und umwandeln in Kleinbuchstaben).*\n",
    "- *Extrahieren eines Wortes aus einem Text an einer Stelle mit gegebener Distanz zwischen den Buchstaben.*\n",
    "- *Testen von allen Worten im Dictionary.*\n",
    "- *Speichern einer Stelle wo ein Wort gefunden wurde.*\n",
    "- *Ausgabe aller Stellen wo ein Wort gefunden wurde.*\n",
    "- *Ausgabe wie oft ein Wort gefunden wurde.*"
   ]
  },
  {
   "cell_type": "markdown",
   "id": "1162f942",
   "metadata": {},
   "source": [
    "### Vorbereiten der Daten\n",
    "\n",
    "Als Erstes wollen wir die Vorverarbeitung der Daten erstellen. Wir wollen unsere Chancen auf einen Treffer erhöhen indem wir von einem Text möglichst nur die Buchstaben behalten. Dazu schreiben wir uns eine erste Hilfsfunktion. Diese soll: \n",
    "- auf Basis eines übergebenen Textes einen neuen Text erstellen.\n",
    "- möglichst nur Buchstaben behalten.\n",
    "- die Buchstaben in Kleinbuchstaben umwandeln.\n",
    "- Jedes Sonderzeichen durch ein Leerzeichen ersetzen. "
   ]
  },
  {
   "cell_type": "code",
   "execution_count": 2,
   "id": "867a37c3",
   "metadata": {},
   "outputs": [],
   "source": [
    "def clean_text(text):\n",
    "    # Ihre Implementation\n",
    "    return \"\""
   ]
  },
  {
   "cell_type": "markdown",
   "id": "4e90c403",
   "metadata": {},
   "source": [
    "Da wir all unseren Code den wir schreiben immer auch testen sollen, rufen wir die Funktion mit einem einfachen Text auf. Wir schauen dann ob die Funktion das tut was wir erwarten."
   ]
  },
  {
   "cell_type": "code",
   "execution_count": 3,
   "id": "54ba7749",
   "metadata": {},
   "outputs": [
    {
     "data": {
      "text/plain": [
       "''"
      ]
     },
     "execution_count": 3,
     "metadata": {},
     "output_type": "execute_result"
    }
   ],
   "source": [
    "clean_text(\"Eine Frage? ein Ausrufezeichen! und ein Punkt.\")"
   ]
  },
  {
   "cell_type": "markdown",
   "id": "100aa6a2",
   "metadata": {},
   "source": [
    "### Text laden\n",
    "Als nächstes wollen wir das laden des Textes aus einem File implementieren. Auch dazu schreiben wir uns eine Funktion welche den Inhalt des Files `war-and-peace.txt` laden soll. Der Text soll dann gleich noch von Sonderzeichen befreit werden."
   ]
  },
  {
   "cell_type": "code",
   "execution_count": 14,
   "id": "994a06d2",
   "metadata": {},
   "outputs": [],
   "source": [
    "def load_text():\n",
    "\n",
    "    # Ihre Implementation\n",
    "    return \"\"\n",
    "\n",
    "def load_preprocessed_text():    \n",
    "    text = load_text()\n",
    "    return clean_text(text)\n",
    "    "
   ]
  },
  {
   "cell_type": "markdown",
   "id": "787fbafa",
   "metadata": {},
   "source": [
    "Testen wir doch auch diese Funktion gleich indem wir die ersten 100 Zeichen ausgeben."
   ]
  },
  {
   "cell_type": "code",
   "execution_count": 15,
   "id": "7a037451",
   "metadata": {},
   "outputs": [
    {
     "data": {
      "text/plain": [
       "''"
      ]
     },
     "execution_count": 15,
     "metadata": {},
     "output_type": "execute_result"
    }
   ],
   "source": [
    "load_preprocessed_text()[0:100]"
   ]
  },
  {
   "cell_type": "markdown",
   "id": "085dbebd",
   "metadata": {},
   "source": [
    "### Laden des Dictionaries\n",
    "\n",
    "Das Dictionary liegt in einem speziellen Format, dem *json* format vor. Dies ist ein oft benutztes Datenformat zum Austausch von Daten. Das *json* format kann direkt in ein Dictionary umgewandelt werden. "
   ]
  },
  {
   "cell_type": "code",
   "execution_count": 16,
   "id": "a43a3f88",
   "metadata": {},
   "outputs": [
    {
     "name": "stdout",
     "output_type": "stream",
     "text": [
      "102217 words loaded into the dictionary\n"
     ]
    }
   ],
   "source": [
    "def load_dictionary():\n",
    "    import json\n",
    "    with open(\"dictionary.json\", \"r\") as f:\n",
    "        dictionary = json.load(f)\n",
    "        return dictionary\n",
    "\n",
    "# Testen inklusive\n",
    "dictionary = load_dictionary()\n",
    "print(\"{} words loaded into the dictionary\".format(len(dictionary)))"
   ]
  },
  {
   "cell_type": "markdown",
   "id": "e5d5598c",
   "metadata": {},
   "source": [
    "Probieren wir doch aus, ob wir Definitionen für einige Wichtige Wörter erhalten. "
   ]
  },
  {
   "cell_type": "code",
   "execution_count": 41,
   "id": "e24cd3f6",
   "metadata": {
    "scrolled": true
   },
   "outputs": [
    {
     "name": "stdout",
     "output_type": "stream",
     "text": [
      "python:  1. (ZoÃ¶l.)  Any species of very large snakes of the genus Python, and allied genera, of the family PythonidÃ¦. They are nearly allied to the boas. Called also rock snake. Note: The pythons have small pelvic bones, or anal spurs, two rows of subcaudal scales, and pitted labials. They are found in Africa, Asia, and the East Indies. 2. A diviner by spirits. \"[Manasses] observed omens, and appointed pythons.\" 4 Kings xxi. 6 (Douay version).\n",
      "\n",
      "code:  1. A body of law, sanctioned by legislation, in which the rules of law to be specifically applied by the courts are set forth in systematic form; a compilation of laws by public authority; a digest. Note: The collection of laws made by the order of Justinian is sometimes called, by way of eminence. \"The Code\" Wharton. 2. Any system of rules or regulations relating to one subject; as, the medical code, a system of rules for the regulation of the professional conduct of physicians; the naval code, a system of rules for making communications at sea means of signals. Code civil or Code Napoleon, a code enacted in France in 1803 and 1804, embodying the law of rights of persons and of property generally. Abbot.\n"
     ]
    }
   ],
   "source": [
    "print(\"python: \", dictionary[\"python\"])\n",
    "print(\"\")\n",
    "print(\"code: \", dictionary[\"code\"])"
   ]
  },
  {
   "cell_type": "markdown",
   "id": "541d2d9f",
   "metadata": {},
   "source": [
    "### Äquidistance Wörter fixer Länge\n",
    "\n",
    "Wir schreiben uns nun eine Funktion, welche Wörter, bestehend aus äquidistanten Buchstabensequenzen, extrahiert. Von einer bestimmten Startposition ausgehend, sollen alle Worte gebildet werden, die länger als eine angegebene Mindestlänge sind und kleiner als eine angegebene Maximallänge.\n",
    "\n",
    "Die Worte werden in einer Liste gespeichert, die an den Aufrufer zurückgegeben wird. "
   ]
  },
  {
   "cell_type": "code",
   "execution_count": 17,
   "id": "05cce20c",
   "metadata": {},
   "outputs": [],
   "source": [
    "def equidistant_char_seq(text, start_position, distance, min_word_len=5, max_word_len=15):\n",
    "    # Ihre Implementation\n",
    "    return []"
   ]
  },
  {
   "cell_type": "code",
   "execution_count": 18,
   "id": "bfa7c5ff",
   "metadata": {},
   "outputs": [
    {
     "data": {
      "text/plain": [
       "[]"
      ]
     },
     "execution_count": 18,
     "metadata": {},
     "output_type": "execute_result"
    }
   ],
   "source": [
    "equidistant_char_seq(\"paybtchcodn\", 0, 2, min_word_len = 5, max_word_len=7)"
   ]
  },
  {
   "cell_type": "markdown",
   "id": "b4df3332",
   "metadata": {},
   "source": [
    "Wir wollen uns die Information speichern, wo ein Wort innerhalb eines Texts gefunden wurde, und mit welcher Distanz dies extrahiert wurde. Dazu verwenden wir eine Klasse. "
   ]
  },
  {
   "cell_type": "code",
   "execution_count": 19,
   "id": "e1359446",
   "metadata": {},
   "outputs": [],
   "source": [
    "class WordOccurrence:\n",
    "    pass"
   ]
  },
  {
   "cell_type": "markdown",
   "id": "f793caaf",
   "metadata": {},
   "source": [
    "Und nun können wir eine einfache Funktion schreiben, die für eine gegebene Distanz an jeder Stelle im Code die Worte extrahiert, und schaut ob die im Dictionary vorkommen (also ob es sich um richtige Worte handelt). Wir speichern jedes gefunden Wort in einer Liste. "
   ]
  },
  {
   "cell_type": "code",
   "execution_count": 20,
   "id": "d712adc8",
   "metadata": {},
   "outputs": [
    {
     "data": {
      "text/plain": [
       "[]"
      ]
     },
     "execution_count": 20,
     "metadata": {},
     "output_type": "execute_result"
    }
   ],
   "source": [
    "def find_all_words(text, dictionary, distance):\n",
    "    occurrences = []\n",
    "    # Ihre Implementation\n",
    "    return occurrences\n",
    "\n",
    "dictionary = load_dictionary()\n",
    "#find_all_words(text, dictionary, 2)\n",
    "find_all_words(\"apbyctdheofngsaanbbacckdde\", dictionary, 2)"
   ]
  },
  {
   "cell_type": "markdown",
   "id": "256f74ed",
   "metadata": {},
   "source": [
    "Und nun lassen wir das auf unserem Text \"War and Peace\" laufen. Da es sich hierbei um einen ziemlichen Wälzer handelt, kann dies einige Zeit dauert. Um es etwas effizienter machen, durchsuchen wir nur die ersten hunderttausend Zeichen.  "
   ]
  },
  {
   "cell_type": "code",
   "execution_count": 21,
   "id": "7aedaf5b",
   "metadata": {
    "scrolled": true
   },
   "outputs": [],
   "source": [
    "text = load_preprocessed_text()\n",
    "dictionary = load_dictionary()\n",
    "\n",
    "found_words = find_all_words(text[0:100000], dictionary, 5)"
   ]
  },
  {
   "cell_type": "markdown",
   "id": "1c44a7e5",
   "metadata": {},
   "source": [
    "Sie sehen, solche Worte finden wir zuhauf. \n",
    "Zum Schluss geben wir noch die Textstelle für jedes Wort aus:"
   ]
  },
  {
   "cell_type": "code",
   "execution_count": 22,
   "id": "07e27286",
   "metadata": {},
   "outputs": [],
   "source": [
    "for word_occurence in found_words:\n",
    "    pos = word_occurence.pos\n",
    "    word = word_occurence.word\n",
    "    dist = word_occurence.distance\n",
    "    \n",
    "    snippet = text[pos : word_occurence.pos + dist * len(word)]\n",
    "\n",
    "    print(\"Word {} found in snippet {} (distance {}))\".format(word, snippet, dist))"
   ]
  },
  {
   "cell_type": "code",
   "execution_count": null,
   "id": "a9f98d1f",
   "metadata": {},
   "outputs": [],
   "source": []
  }
 ],
 "metadata": {
  "kernelspec": {
   "display_name": "Python 3 (ipykernel)",
   "language": "python",
   "name": "python3"
  },
  "language_info": {
   "codemirror_mode": {
    "name": "ipython",
    "version": 3
   },
   "file_extension": ".py",
   "mimetype": "text/x-python",
   "name": "python",
   "nbconvert_exporter": "python",
   "pygments_lexer": "ipython3",
   "version": "3.9.7"
  },
  "toc": {
   "base_numbering": 1,
   "nav_menu": {},
   "number_sections": false,
   "sideBar": false,
   "skip_h1_title": false,
   "title_cell": "Table of Contents",
   "title_sidebar": "Contents",
   "toc_cell": false,
   "toc_position": {},
   "toc_section_display": false,
   "toc_window_display": false
  }
 },
 "nbformat": 4,
 "nbformat_minor": 5
}

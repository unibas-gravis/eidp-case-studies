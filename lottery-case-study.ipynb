{
 "cells": [
  {
   "cell_type": "markdown",
   "id": "ac35c4d4-cba5-4602-9b90-8ec3ecc4a370",
   "metadata": {},
   "source": [
    "## Die Macht der Schleifen!\n",
    "\n",
    "Mit Schleifen und Verzweigungen lassen sich bereits sehr komplexe Abläufe simulieren. Sie ersparen auch oft das Suchen und Entwickeln von analytischen Lösungen (Formeln).\n"
   ]
  },
  {
   "cell_type": "markdown",
   "id": "ace902fc-39de-44e0-9d6a-5ef604d0270e",
   "metadata": {
    "tags": []
   },
   "source": [
    "#### Unsere Aufgabe:\n",
    "\n",
    "Hurra, Sie haben 1000000 CHF in einer Lotterie gewonnen -- ist Ihr Leben nun finanziert? \n",
    "\n",
    "Genauer, ist dieses Startkapital ausreichend sich ein sparsames Leben ganz zu finanzieren? Sie haben gehört, dass bei Geldanlagen der Zinseszins wie ein Turbo der Geldvermehrung wirken soll. Sie haben aber auch gehöhrt, dass sich die Kaufkraft des Geldes durch die Inflation jedes Jahr verringern soll. Was überwiegt?\n",
    "\n",
    "Um hier eine Antwort zu bekommen, entschliessen Sie sich das Ganze zu simulieren.\n",
    "Die Simulation vereinfacht sich wenn man nur in Jahresschritten rechnet, das heisst zu Beginn des Jahres entnehmen Sie den ganzen Jahresbedarf vom Kapital und das Restkapital wird zum Jahresende um seine Rendite erhöht. \n",
    "Bei Lebenserwartung, Inflation und möglicher Rendite des Kapitals ist eine genaue Prognose schwierig.\n",
    "Glaubt man Experten, so können Sie durchaus mit einer Lebenserwartung von 100 Jahren rechnen.  Bei einer Investition in den SMI scheint langfristing eine Redite von 4% (nach Steuern und Kosten) möglich und in der Vergangenheit betrug die Inflation etwa 2 % im Jahr.\n",
    "\n",
    "\n",
    "Für alle Grössen und Annahmen definieren wir uns je eine Variable.\n",
    "\n",
    "```python\n",
    "alter = 20         # aktuelles Alter\n",
    "max_alter = 100    # die Lebenserwartung\n",
    "kapital = 1000000  # der Lotteriegewinn\n",
    "rendite   = 4      # jährliche Rendite (Zins) in Prozent\n",
    "inflation  = 2     # jährliche Inflation in Prozent\n",
    "m_bedarf = 2500    # monatlicher finanzieller Bedarf\n",
    "```\n",
    "\n",
    "\n",
    " "
   ]
  },
  {
   "cell_type": "markdown",
   "id": "d5e8595c-f662-467b-8c0a-8537875be32d",
   "metadata": {},
   "source": [
    "#### Schritt 1\n",
    "\n",
    "Da die gesamte Aufgabe doch sehr komplex ist, beginnen wir mit einer einfacheren Teilaufgabe.\n",
    "\n",
    "Wie würde sich Ihr Lotteriegewinn vermehren wenn Sie diesen Ihr ganzes Leben lang nicht antasten würden?"
   ]
  },
  {
   "cell_type": "code",
   "execution_count": 5,
   "id": "42e14054-7098-49fe-aeeb-1ca6f70ad07b",
   "metadata": {},
   "outputs": [
    {
     "name": "stdout",
     "output_type": "stream",
     "text": [
      "Im Alter von 100 ist mein Kapital: 23049799.069873296\n"
     ]
    }
   ],
   "source": [
    "alter = 20         # aktuelles Alter\n",
    "max_alter = 100    # die Lebenserwartung\n",
    "kapital = 1000000  # der Lotteriegewinn\n",
    "rendite = 4        # jährliche Rendite (Zins) in %\n",
    "\n",
    "# Nachfolgend die Simulation \n",
    "while alter < max_alter:\n",
    "    \n",
    "    kapital = kapital * ((100 + rendite) / 100)\n",
    "    \n",
    "    alter = alter + 1\n",
    "    \n",
    "print(\"Im Alter von\", alter, \"ist mein Kapital:\", kapital)"
   ]
  },
  {
   "cell_type": "markdown",
   "id": "7bdd46f9-2c2c-4007-b5df-d7baca63bb67",
   "metadata": {},
   "source": [
    "#### Schritt 2\n",
    "\n",
    "Eine weitere einfache Teilaufgabe ist, wie viel Geld benötigen Sie in Ihrem ganzen Leben bei konstanten Ausgaben?"
   ]
  },
  {
   "cell_type": "code",
   "execution_count": 10,
   "id": "1ff06e5c-c590-4a56-866f-a76c8d15aacf",
   "metadata": {},
   "outputs": [
    {
     "name": "stdout",
     "output_type": "stream",
     "text": [
      "Summe Bedarf  2400000\n"
     ]
    }
   ],
   "source": [
    "alter = 20         # aktuelles Alter\n",
    "max_alter = 100    # die Lebenserwartung\n",
    "m_bedarf = 2500    # der monatliche finzieller Bedarf\n",
    "sum_bedarf = 0     # gesamter finanzieller Bedarf im Leben\n",
    "\n",
    "# Nachfolgend die Simulation \n",
    "while alter < max_alter:\n",
    "    jahres_bedarf = m_bedarf * 12\n",
    "    sum_bedarf = sum_bedarf + jahres_bedarf\n",
    "    alter = alter + 1\n",
    "print(\"Summe Bedarf \", sum_bedarf)"
   ]
  },
  {
   "cell_type": "markdown",
   "id": "1c62a39f-15c4-48c0-b8bb-90a384de73bb",
   "metadata": {},
   "source": [
    "#### Schritt 3 \n",
    "\n",
    "Aber welche Rolle spielt nun die Inflation in dieser Rechnung? Inflation bedeutet, dass alles um die Inflation teurer wird! Entweder nehmen Sie in Kauf, dass Sie sich jedes Jahr weniger leisten können oder Sie erhöhen ihren Bedarf jedes Jahr um die Inflationsrate. Da 2500 CHF nicht allzu üppig sind, entschliessen Sie sich Ihren Bedarf jährlich anzupassen.\n",
    "\n",
    "Auf wieviel steigt nun Ihr gesamter Bedarf und auf wieviel der monatliche Bedarf wenn Sie die Kaufkraft erhalten wollen?\n",
    "\n",
    "Fromal ist dies zum Schritt 1 sehr ähnlich.\n",
    "\n"
   ]
  },
  {
   "cell_type": "code",
   "execution_count": 21,
   "id": "0479fd9b-2aaf-46f3-b280-2e3762d25b96",
   "metadata": {},
   "outputs": [
    {
     "name": "stdout",
     "output_type": "stream",
     "text": [
      "Im Alter von  100 ist der monatliche Bedarf 12188.597890240982\n",
      "Summe bedarf  5813158.734144585\n"
     ]
    }
   ],
   "source": [
    "alter = 20         # aktuelles Alter\n",
    "max_alter = 100    # die Lebenserwartung\n",
    "m_bedarf = 2500    # der monatl. finzielle Bedarf\n",
    "sum_bedarf = 0     # gesamter finanz. Bedarf im Leben\n",
    "infl = 2           # Inflation in %\n",
    "\n",
    "# Nachfolgend die Simulation\n",
    "while alter < max_alter:\n",
    "    jahres_bedarf = 12 * m_bedarf\n",
    "    sum_bedarf = sum_bedarf + jahres_bedarf\n",
    "    m_bedarf = m_bedarf * ((100 + infl) / 100)\n",
    "    \n",
    "    alter = alter + 1\n",
    "    \n",
    "print(\"Im Alter von \", alter, \"ist der monatliche Bedarf\", m_bedarf)\n",
    "print(\"Summe bedarf \", sum_bedarf)"
   ]
  },
  {
   "cell_type": "markdown",
   "id": "16f4bf10-0fbc-4a4f-818b-0fff9bc00745",
   "metadata": {},
   "source": [
    "#### Schritt 4: Alles fügt sich zusammen.\n",
    "\n",
    "Sie legen ihren Lotteriegewinn an und entnehmen Ihren Bedarf. \n",
    "\n",
    "Sie rechnen weiterhin nur in Jahresschritten, das heisst zu Beginn des Jahres entnehmen Sie den ganzen Jahresbedarf vom Kapital und das Restkapital wird zum Jahresende um die Rendite erhöht.\n",
    "\n",
    "Sie müssen noch festlegen was Sie eigentlich berechnen wollen. Es gibt mehrere Möglichkeiten:\n",
    "\n",
    "1. Sie möchten wissen wie viel Kapital zu ihrem 100. Geburtstag noch vorhanden ist?\n",
    "\n",
    "2. Sie möchten wissen bis zu welchem Alter Sie sich finanzieren können?\n",
    "\n",
    "Da es auf negatives Kapital keine Zinsen gibt, simulieren Sie nur bis zu dem Alter bei welchem noch Ihr gesamter Jahresbedarf gedeckt ist.\n",
    "\n",
    "\n"
   ]
  },
  {
   "cell_type": "code",
   "execution_count": 24,
   "id": "10373756-4e77-4a3b-9c16-2d0e87889b4f",
   "metadata": {},
   "outputs": [
    {
     "name": "stdout",
     "output_type": "stream",
     "text": [
      "alter  21  kapital  1015040.0\n",
      "alter  22  kapital  1030182.4\n",
      "alter  23  kapital  1045421.312\n",
      "alter  24  kapital  1060750.4128\n",
      "alter  25  kapital  1076162.9225984002\n",
      "alter  26  kapital  1091651.582654464\n",
      "alter  27  kapital  1107208.6319758133\n",
      "alter  28  kapital  1122825.78299032\n",
      "alter  29  kapital  1138494.1961601162\n",
      "alter  30  kapital  1154204.453493708\n",
      "alter  31  kapital  1169946.5309103874\n",
      "alter  32  kapital  1185709.7694092724\n",
      "alter  33  kapital  1201482.844993362\n",
      "alter  34  kapital  1217253.7372969696\n",
      "alter  35  kapital  1233009.696862799\n",
      "alter  36  kapital  1248737.2110127409\n",
      "alter  37  kapital  1264421.9682541888\n",
      "alter  38  kapital  1280048.8211613134\n",
      "alter  39  kapital  1295601.747668262\n",
      "alter  40  kapital  1311063.8107086988\n",
      "alter  41  kapital  1326417.116133427\n",
      "alter  42  kapital  1341642.768835072\n",
      "alter  43  kapital  1356720.8270059088\n",
      "alter  44  kapital  1371630.254451928\n",
      "alter  45  kapital  1386348.8708831035\n",
      "alter  46  kapital  1400853.300096588\n",
      "alter  47  kapital  1415118.915966175\n",
      "alter  48  kapital  1429119.78614786\n",
      "alter  49  kapital  1442828.6134076733\n",
      "alter  50  kapital  1456216.674474157\n",
      "alter  51  kapital  1469253.7563139035\n",
      "alter  52  kapital  1481908.0897244555\n",
      "alter  53  kapital  1494146.2801345896\n",
      "alter  54  kapital  1505933.2354975522\n",
      "alter  55  kapital  1517232.0911581847\n",
      "alter  56  kapital  1528004.1315700572\n",
      "alter  57  kapital  1538208.7087337156\n",
      "alter  58  kapital  1547803.1572219376\n",
      "alter  59  kapital  1556742.7056524656\n",
      "alter  60  kapital  1564980.3844630478\n",
      "alter  61  kapital  1572466.929837743\n",
      "alter  62  kapital  1579150.6836273496\n",
      "alter  63  kapital  1584977.489100462\n",
      "alter  64  kapital  1589890.5823550595\n",
      "alter  65  kapital  1593830.4792136524\n",
      "alter  66  kapital  1596734.857417877\n",
      "alter  67  kapital  1598538.4339309842\n",
      "alter  68  kapital  1599172.8371489437\n",
      "alter  69  kapital  1598566.4738128358\n",
      "alter  70  kapital  1596644.390406842\n",
      "alter  71  kapital  1593328.1288174386\n",
      "alter  72  kapital  1588535.5760203456\n",
      "alter  73  kapital  1582180.8075523728\n",
      "alter  74  kapital  1574173.9245155056\n",
      "alter  75  kapital  1564420.8838503843\n",
      "alter  76  kapital  1552823.3216057434\n",
      "alter  77  kapital  1539278.3689193437\n",
      "alter  78  kapital  1523678.4604144753\n",
      "alter  79  kapital  1505911.1347041794\n",
      "alter  80  kapital  1485858.826682934\n",
      "alter  81  kapital  1463398.6512726508\n",
      "alter  82  kapital  1438402.178276404\n",
      "alter  83  kapital  1410735.1979793643\n",
      "alter  84  kapital  1380257.4771218812\n",
      "alter  85  kapital  1346822.5048545657\n",
      "alter  86  kapital  1310277.2282695137\n",
      "alter  87  kapital  1270461.777085475\n",
      "alter  88  kapital  1227209.1770477782\n",
      "alter  89  kapital  1180345.0515861511\n",
      "alter  90  kapital  1129687.3112551882\n",
      "alter  91  kapital  1075045.8304630988\n",
      "alter  92  kapital  1016222.1109744798\n",
      "alter  93  kapital  953008.9316521732\n",
      "alter  94  kapital  885189.9838817485\n",
      "alter  95  kapital  812539.4920997767\n",
      "alter  96  kapital  734821.8188237812\n",
      "alter  97  kapital  651791.0535575461\n",
      "alter  98  kapital  563190.5849202778\n",
      "alter  99  kapital  468752.65532192745\n",
      "alter  100  kapital  368197.8974797398\n",
      "Alter  100\n"
     ]
    }
   ],
   "source": [
    "alter = 20         # aktuelles Alter\n",
    "kapital = 1000000  # der Lotteriegewinn\n",
    "rendite = 4        # jährliche Rendite (Zins) in %\n",
    "m_bedarf = 2000    # der monatliche finanzielle Bedarf\n",
    "infl = 2           # Inflation in %\n",
    "\n",
    "jahres_bedarf = m_bedarf * 12\n",
    "\n",
    "# Nachfolgend die Simulation \n",
    "while (kapital - jahres_bedarf) > 0 and alter < 100:\n",
    "    kapital = kapital - jahres_bedarf\n",
    "    kapital = kapital * ((100 + rendite) / 100)\n",
    "    jahres_bedarf = jahres_bedarf * ((100 + infl) / 100)\n",
    "    alter = alter + 1\n",
    "    print(\"alter \", alter, \" kapital \", kapital)\n",
    "    \n",
    "print(\"Alter \", alter)\n",
    "    "
   ]
  },
  {
   "cell_type": "code",
   "execution_count": null,
   "id": "c80f08d7",
   "metadata": {},
   "outputs": [],
   "source": []
  }
 ],
 "metadata": {
  "kernelspec": {
   "display_name": "Python 3 (ipykernel)",
   "language": "python",
   "name": "python3"
  },
  "language_info": {
   "codemirror_mode": {
    "name": "ipython",
    "version": 3
   },
   "file_extension": ".py",
   "mimetype": "text/x-python",
   "name": "python",
   "nbconvert_exporter": "python",
   "pygments_lexer": "ipython3",
   "version": "3.9.7"
  },
  "toc": {
   "base_numbering": 1,
   "nav_menu": {},
   "number_sections": false,
   "sideBar": false,
   "skip_h1_title": false,
   "title_cell": "Table of Contents",
   "title_sidebar": "Contents",
   "toc_cell": false,
   "toc_position": {},
   "toc_section_display": false,
   "toc_window_display": false
  }
 },
 "nbformat": 4,
 "nbformat_minor": 5
}
